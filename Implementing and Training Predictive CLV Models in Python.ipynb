{
 "cells": [
  {
   "cell_type": "markdown",
   "metadata": {},
   "source": [
    "# Implementing and Training Predictive CLV Models in Python"
   ]
  },
  {
   "cell_type": "markdown",
   "metadata": {},
   "source": [
    "### What is Customer Lifetime Value (CLV)?"
   ]
  },
  {
   "cell_type": "markdown",
   "metadata": {},
   "source": [
    "Total profit of the entire relationship with a customer\n",
    "* Costs to attract, service, and maintain customer\n",
    "* Customer transactions (number and value)\n",
    "* Cusotmer network effects (e.g. word-of-mouth)\n",
    "\n",
    "** This model will exclusively focus on the Revenue part of the profit equation. "
   ]
  },
  {
   "cell_type": "markdown",
   "metadata": {},
   "source": [
    "### Why do we care about CLV?"
   ]
  },
  {
   "cell_type": "markdown",
   "metadata": {},
   "source": [
    "* Customer segmentation to identify the most profitable customers. \n",
    "* Identify traits and features of valuable customers.\n",
    "* Determine how to allocate resources among customers.\n",
    "* Enable evaluation of what a company should pay to acquire the customer relationship. "
   ]
  },
  {
   "cell_type": "markdown",
   "metadata": {},
   "source": [
    "### Business Contexts"
   ]
  },
  {
   "cell_type": "markdown",
   "metadata": {},
   "source": [
    "##### Contractual\n",
    "* Customer 'death' can be observed\n",
    "* Often modeled using survival-based approaches (e.g. membership)\n",
    "\n",
    "##### Non-contractual\n",
    "* Customer 'death' is unobserved\n",
    "* Customer lifetime distribution often modeled via exponential models (e.g. online retailers)"
   ]
  },
  {
   "cell_type": "markdown",
   "metadata": {},
   "source": [
    "##### Discrete purchases\n",
    "* Occur at fixed periods or frequencies (e.g. magzine subscription)\n",
    "\n",
    "##### Continuous purchases\n",
    "* Can happen at any time"
   ]
  },
  {
   "cell_type": "markdown",
   "metadata": {},
   "source": [
    "|                     | Contractual                                                                                                                           | Non-Contractual                                                       |\n",
    "|:---------------------|:---------------------------------------------------------------------------------------------------------------------------------------|:-----------------------------------------------------------------------|\n",
    "| Discrete Purchase   | - Magazine/newspaper subscriptions<br>- Fitness clubs<br>- Most insurance/lending products<br>- Streaming srevices<br>- Most cell phone plans | - Prescription refills<br>- Charity fund drives<br>- Event attendance |\n",
    "| Continuous Purchase | - Costco membership<br>- Credit cards                                                                                                 | - Movie<br>- Hotel stays<br>- Grocery purchases<br>- Amazon.com       |"
   ]
  },
  {
   "cell_type": "markdown",
   "metadata": {},
   "source": [
    "> CLV = **Total Number of Purchases of Each Customer** * Value of Each Future Transaction at the Customer Level"
   ]
  },
  {
   "cell_type": "markdown",
   "metadata": {},
   "source": [
    "   "
   ]
  },
  {
   "cell_type": "markdown",
   "metadata": {},
   "source": [
    "### Pareto/NBD CLV Model\n",
    "\n",
    "A Hierarchical Bayesian Model with prior distributions for:\n",
    "* **Purchase Count** in a give time window: Modeled with latent parameter $\\lambda$ >>> Poisson Distribution\n",
    "* **Lifetime**: Modeled with latent parameter $\\mu$ >>> Exponential distribution with a slope of $\\mu$\n",
    "\n",
    "at individual level.\n",
    "\n",
    "* **Combined Models**: \n",
    "    * Pareto: Exponential x Gamma\n",
    "    * NBD: Poisson x Gamma\n",
    "\n",
    "> The **prior distributions** represent our belief on how the latent parameters are distributed in the customer population.\n",
    "\n",
    "Advantage of Pareto/NBD Model: small amunt of required data to generate an effective result."
   ]
  },
  {
   "cell_type": "markdown",
   "metadata": {},
   "source": [
    "     "
   ]
  },
  {
   "cell_type": "markdown",
   "metadata": {},
   "source": [
    "### Data Structure: Recency-Frequency-Monetary Value"
   ]
  },
  {
   "cell_type": "markdown",
   "metadata": {},
   "source": [
    "* **Recency** = Last purchase date - Initial purchase date = $t_i$ - $t_0$\n",
    "* (Repeat) **Frequency** = Number of purchases excluding the initial one = i-1\n",
    "* **T** (time interval) = Last date - Initial purchase date = $t_{now}$ - $t_0$\n",
    "\n",
    "Pareto/NBD and other models only require an RFM data structure (at the individual level) to be trained."
   ]
  },
  {
   "cell_type": "markdown",
   "metadata": {},
   "source": [
    "    "
   ]
  },
  {
   "cell_type": "markdown",
   "metadata": {},
   "source": [
    "### Generating an RFM object"
   ]
  },
  {
   "cell_type": "markdown",
   "metadata": {},
   "source": [
    "* Recency: time of most recent purchase (Most recent - Initial)\n",
    "* Frequency: number of repeat purchases (Total purchases except Initial)\n",
    "* T: total elapsed time since customer's first purchase"
   ]
  },
  {
   "cell_type": "code",
   "execution_count": 32,
   "metadata": {},
   "outputs": [],
   "source": [
    "# !pip install lifetimes\n",
    "import pandas as pd\n",
    "from datetime import datetime, timedelta  #timedelta(d1.weekday()) >> convert int. to a time interval\n",
    "import lifetimes\n",
    "from lifetimes.datasets import load_dataset"
   ]
  },
  {
   "cell_type": "code",
   "execution_count": 22,
   "metadata": {},
   "outputs": [
    {
     "data": {
      "text/html": [
       "<div>\n",
       "<style scoped>\n",
       "    .dataframe tbody tr th:only-of-type {\n",
       "        vertical-align: middle;\n",
       "    }\n",
       "\n",
       "    .dataframe tbody tr th {\n",
       "        vertical-align: top;\n",
       "    }\n",
       "\n",
       "    .dataframe thead th {\n",
       "        text-align: right;\n",
       "    }\n",
       "</style>\n",
       "<table border=\"1\" class=\"dataframe\">\n",
       "  <thead>\n",
       "    <tr style=\"text-align: right;\">\n",
       "      <th></th>\n",
       "      <th>customer_id</th>\n",
       "      <th>customer_index</th>\n",
       "      <th>date</th>\n",
       "      <th>quantity</th>\n",
       "      <th>amount</th>\n",
       "    </tr>\n",
       "  </thead>\n",
       "  <tbody>\n",
       "    <tr>\n",
       "      <th>0</th>\n",
       "      <td>4</td>\n",
       "      <td>1</td>\n",
       "      <td>1997-01-01</td>\n",
       "      <td>2</td>\n",
       "      <td>29.33</td>\n",
       "    </tr>\n",
       "    <tr>\n",
       "      <th>1</th>\n",
       "      <td>4</td>\n",
       "      <td>1</td>\n",
       "      <td>1997-01-18</td>\n",
       "      <td>2</td>\n",
       "      <td>29.73</td>\n",
       "    </tr>\n",
       "    <tr>\n",
       "      <th>2</th>\n",
       "      <td>4</td>\n",
       "      <td>1</td>\n",
       "      <td>1997-08-02</td>\n",
       "      <td>1</td>\n",
       "      <td>14.96</td>\n",
       "    </tr>\n",
       "    <tr>\n",
       "      <th>3</th>\n",
       "      <td>4</td>\n",
       "      <td>1</td>\n",
       "      <td>1997-12-12</td>\n",
       "      <td>2</td>\n",
       "      <td>26.48</td>\n",
       "    </tr>\n",
       "    <tr>\n",
       "      <th>4</th>\n",
       "      <td>21</td>\n",
       "      <td>2</td>\n",
       "      <td>1997-01-01</td>\n",
       "      <td>3</td>\n",
       "      <td>63.34</td>\n",
       "    </tr>\n",
       "  </tbody>\n",
       "</table>\n",
       "</div>"
      ],
      "text/plain": [
       "   customer_id  customer_index       date  quantity  amount\n",
       "0            4               1 1997-01-01         2   29.33\n",
       "1            4               1 1997-01-18         2   29.73\n",
       "2            4               1 1997-08-02         1   14.96\n",
       "3            4               1 1997-12-12         2   26.48\n",
       "4           21               2 1997-01-01         3   63.34"
      ]
     },
     "execution_count": 22,
     "metadata": {},
     "output_type": "execute_result"
    }
   ],
   "source": [
    "# Import sample data\n",
    "cdnow_transactions = load_dataset(\n",
    "    'CDNOW_sample.txt',\n",
    "    header=None,\n",
    "    delim_whitespace=True,\n",
    "    names=['customer_id','customer_index','date','quantity','amount'],\n",
    "    converters={'date':lambda x: pd.to_datetime(x, format=\"%Y%m%d\")}\n",
    ")\n",
    "\n",
    "cdnow_transactions.head()"
   ]
  },
  {
   "cell_type": "code",
   "execution_count": 19,
   "metadata": {},
   "outputs": [
    {
     "data": {
      "text/plain": [
       "(6919, 5)"
      ]
     },
     "execution_count": 19,
     "metadata": {},
     "output_type": "execute_result"
    }
   ],
   "source": [
    "cdnow_transactions.shape"
   ]
  },
  {
   "cell_type": "code",
   "execution_count": 21,
   "metadata": {},
   "outputs": [
    {
     "name": "stdout",
     "output_type": "stream",
     "text": [
      "1997-01-01 00:00:00\n",
      "1998-06-30 00:00:00\n"
     ]
    }
   ],
   "source": [
    "# 1997-10-01 ~ 1998-06-30 is typically used as out-of-sample data\n",
    "print(cdnow_transactions.date.min())\n",
    "print(cdnow_transactions.date.max())"
   ]
  },
  {
   "cell_type": "markdown",
   "metadata": {},
   "source": [
    "##### Data Aggregation\n",
    "The frequency bucket that we want to group the transactions in is \"week\"."
   ]
  },
  {
   "cell_type": "code",
   "execution_count": 33,
   "metadata": {},
   "outputs": [
    {
     "data": {
      "text/html": [
       "<div>\n",
       "<style scoped>\n",
       "    .dataframe tbody tr th:only-of-type {\n",
       "        vertical-align: middle;\n",
       "    }\n",
       "\n",
       "    .dataframe tbody tr th {\n",
       "        vertical-align: top;\n",
       "    }\n",
       "\n",
       "    .dataframe thead th {\n",
       "        text-align: right;\n",
       "    }\n",
       "</style>\n",
       "<table border=\"1\" class=\"dataframe\">\n",
       "  <thead>\n",
       "    <tr style=\"text-align: right;\">\n",
       "      <th></th>\n",
       "      <th>frequency</th>\n",
       "      <th>recency</th>\n",
       "      <th>T</th>\n",
       "    </tr>\n",
       "    <tr>\n",
       "      <th>customer_id</th>\n",
       "      <th></th>\n",
       "      <th></th>\n",
       "      <th></th>\n",
       "    </tr>\n",
       "  </thead>\n",
       "  <tbody>\n",
       "    <tr>\n",
       "      <th>4</th>\n",
       "      <td>2.0</td>\n",
       "      <td>30.0</td>\n",
       "      <td>39.0</td>\n",
       "    </tr>\n",
       "    <tr>\n",
       "      <th>18</th>\n",
       "      <td>0.0</td>\n",
       "      <td>0.0</td>\n",
       "      <td>39.0</td>\n",
       "    </tr>\n",
       "    <tr>\n",
       "      <th>21</th>\n",
       "      <td>1.0</td>\n",
       "      <td>2.0</td>\n",
       "      <td>39.0</td>\n",
       "    </tr>\n",
       "    <tr>\n",
       "      <th>50</th>\n",
       "      <td>0.0</td>\n",
       "      <td>0.0</td>\n",
       "      <td>39.0</td>\n",
       "    </tr>\n",
       "    <tr>\n",
       "      <th>60</th>\n",
       "      <td>0.0</td>\n",
       "      <td>0.0</td>\n",
       "      <td>35.0</td>\n",
       "    </tr>\n",
       "  </tbody>\n",
       "</table>\n",
       "</div>"
      ],
      "text/plain": [
       "             frequency  recency     T\n",
       "customer_id                          \n",
       "4                  2.0     30.0  39.0\n",
       "18                 0.0      0.0  39.0\n",
       "21                 1.0      2.0  39.0\n",
       "50                 0.0      0.0  39.0\n",
       "60                 0.0      0.0  35.0"
      ]
     },
     "execution_count": 33,
     "metadata": {},
     "output_type": "execute_result"
    }
   ],
   "source": [
    "# lifetimes provides a transaction log -> RFM util function\n",
    "rfm = lifetimes.utils.summary_data_from_transaction_data(\n",
    "        cdnow_transactions,\n",
    "        'customer_id',\n",
    "        'date',\n",
    "        observation_period_end=pd.to_datetime('1997-09-30'),\n",
    "        freq='W'  # count all the transactions within a week as 1 observation\n",
    ")\n",
    "\n",
    "rfm.head()"
   ]
  },
  {
   "cell_type": "code",
   "execution_count": 79,
   "metadata": {},
   "outputs": [
    {
     "data": {
      "text/html": [
       "<div>\n",
       "<style scoped>\n",
       "    .dataframe tbody tr th:only-of-type {\n",
       "        vertical-align: middle;\n",
       "    }\n",
       "\n",
       "    .dataframe tbody tr th {\n",
       "        vertical-align: top;\n",
       "    }\n",
       "\n",
       "    .dataframe thead th {\n",
       "        text-align: right;\n",
       "    }\n",
       "</style>\n",
       "<table border=\"1\" class=\"dataframe\">\n",
       "  <thead>\n",
       "    <tr style=\"text-align: right;\">\n",
       "      <th></th>\n",
       "      <th>customer_id</th>\n",
       "      <th>customer_index</th>\n",
       "      <th>date</th>\n",
       "      <th>quantity</th>\n",
       "      <th>amount</th>\n",
       "    </tr>\n",
       "  </thead>\n",
       "  <tbody>\n",
       "    <tr>\n",
       "      <th>157</th>\n",
       "      <td>18</td>\n",
       "      <td>58</td>\n",
       "      <td>1997-01-04</td>\n",
       "      <td>1</td>\n",
       "      <td>14.96</td>\n",
       "    </tr>\n",
       "  </tbody>\n",
       "</table>\n",
       "</div>"
      ],
      "text/plain": [
       "     customer_id  customer_index       date  quantity  amount\n",
       "157           18              58 1997-01-04         1   14.96"
      ]
     },
     "execution_count": 79,
     "metadata": {},
     "output_type": "execute_result"
    }
   ],
   "source": [
    "# Examine the aggregation result\n",
    "cust_id = 18\n",
    "selected_cust = cdnow_transactions[cdnow_transactions['customer_id']==cust_id]\n",
    "selected_cust"
   ]
  },
  {
   "cell_type": "markdown",
   "metadata": {},
   "source": [
    "   "
   ]
  },
  {
   "cell_type": "markdown",
   "metadata": {},
   "source": [
    "   "
   ]
  },
  {
   "cell_type": "markdown",
   "metadata": {},
   "source": [
    "   "
   ]
  },
  {
   "cell_type": "markdown",
   "metadata": {},
   "source": [
    "### Theory"
   ]
  },
  {
   "cell_type": "markdown",
   "metadata": {},
   "source": [
    "##### Purchasing Rate"
   ]
  },
  {
   "cell_type": "markdown",
   "metadata": {},
   "source": [
    "The number of purhcases made in a period $t$ follows a Poisson Distribution:\n",
    "$$ p(x~|~\\lambda, \\Delta t ) =  \\frac{(\\lambda \\Delta t)^x}{x!} e^{-\\lambda \\Delta t} $$ "
   ]
  },
  {
   "cell_type": "markdown",
   "metadata": {},
   "source": [
    "Purchasing Rate paramer $\\lambda$ is distributed Gamma with parameters $r$ and $alpha$:\n",
    "\n",
    "$$\\lambda \\sim \\Gamma(r, \\alpha)$$"
   ]
  },
  {
   "cell_type": "markdown",
   "metadata": {},
   "source": [
    "A customer with a transaction rate $\\lambda$ will make on average $\\lambda \\times \\Delta t$ transactions in a period of time $\\Delta t$. "
   ]
  },
  {
   "cell_type": "markdown",
   "metadata": {},
   "source": [
    "##### Lifetime "
   ]
  },
  {
   "cell_type": "markdown",
   "metadata": {},
   "source": [
    "At the customer level, the lifetime $\\tau$ is distributed according to an Exponential distribution:\n",
    "\n",
    "$$ p(\\tau~|~\\mu) = \\mu e^{-\\mu \\tau } $$ \n",
    "\n",
    "where $\\tau > 0$. In other words, each customer has its own lifetime distribution. Note that the expectation value for the lifetime $\\tau$ is $E[\\tau~|~\\mu] = \\frac{1}{\\mu}$. "
   ]
  },
  {
   "cell_type": "markdown",
   "metadata": {},
   "source": [
    "The value of $\\mu$ varies across the customers according to another gamma distribution with shape $s$ and rate $\\beta$ : \n",
    "\n",
    "$$\\mu \\sim \\Gamma(s, \\beta)$$"
   ]
  },
  {
   "cell_type": "markdown",
   "metadata": {},
   "source": [
    "##### Likelihood"
   ]
  },
  {
   "cell_type": "markdown",
   "metadata": {},
   "source": [
    "Likelihood for an individual purchasing rate and lifetime conditional on purchasing frequency, recency, and time since initial purchase:\n",
    "\n",
    "$$ L(\\lambda, \\mu~|~x,t_x,T) = \\frac{\\lambda^x \\mu}{\\lambda+\\mu}e^{-(\\lambda+\\mu)t_x}+\\frac{\\lambda^{x+1}}{\\lambda+\\mu}e^{-(\\lambda+\\mu)T} $$\n",
    "\n",
    "where $x$ is the repeat purchase frequency, $t_x$ is the recency and $T$ is the length of the calibration/training period. \n"
   ]
  },
  {
   "cell_type": "markdown",
   "metadata": {},
   "source": [
    "      "
   ]
  },
  {
   "cell_type": "markdown",
   "metadata": {},
   "source": [
    "       "
   ]
  },
  {
   "cell_type": "markdown",
   "metadata": {},
   "source": [
    "   "
   ]
  },
  {
   "cell_type": "markdown",
   "metadata": {},
   "source": [
    "### Training the Pareto/NBD Model"
   ]
  },
  {
   "cell_type": "markdown",
   "metadata": {},
   "source": [
    "Splitting the data by time period:\n",
    "- Training Period: at least 3x inter-purchase time\n",
    "- Validation Period: at least 1/2 of Training period\n",
    "- Forecast Period: depends on needs >> comparable to the training period"
   ]
  },
  {
   "cell_type": "code",
   "execution_count": null,
   "metadata": {},
   "outputs": [],
   "source": []
  },
  {
   "cell_type": "code",
   "execution_count": null,
   "metadata": {},
   "outputs": [],
   "source": []
  },
  {
   "cell_type": "code",
   "execution_count": null,
   "metadata": {},
   "outputs": [],
   "source": []
  },
  {
   "cell_type": "code",
   "execution_count": null,
   "metadata": {},
   "outputs": [],
   "source": []
  },
  {
   "cell_type": "code",
   "execution_count": null,
   "metadata": {},
   "outputs": [],
   "source": []
  },
  {
   "cell_type": "code",
   "execution_count": null,
   "metadata": {},
   "outputs": [],
   "source": []
  },
  {
   "cell_type": "code",
   "execution_count": null,
   "metadata": {},
   "outputs": [],
   "source": []
  },
  {
   "cell_type": "code",
   "execution_count": null,
   "metadata": {},
   "outputs": [],
   "source": []
  },
  {
   "cell_type": "code",
   "execution_count": null,
   "metadata": {},
   "outputs": [],
   "source": []
  },
  {
   "cell_type": "code",
   "execution_count": null,
   "metadata": {},
   "outputs": [],
   "source": []
  }
 ],
 "metadata": {
  "kernelspec": {
   "display_name": "Python 3",
   "language": "python",
   "name": "python3"
  },
  "language_info": {
   "codemirror_mode": {
    "name": "ipython",
    "version": 3
   },
   "file_extension": ".py",
   "mimetype": "text/x-python",
   "name": "python",
   "nbconvert_exporter": "python",
   "pygments_lexer": "ipython3",
   "version": "3.7.6"
  }
 },
 "nbformat": 4,
 "nbformat_minor": 4
}
